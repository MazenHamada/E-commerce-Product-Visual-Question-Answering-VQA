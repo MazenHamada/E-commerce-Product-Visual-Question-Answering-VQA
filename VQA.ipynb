{
  "nbformat": 4,
  "nbformat_minor": 0,
  "metadata": {
    "colab": {
      "provenance": [],
      "collapsed_sections": [
        "SaC81G04L0bh",
        "deU3v3p0eBHh",
        "9WnWqjZcLt-W",
        "m7fXuuEACHLL",
        "q4Ads-BbON-4",
        "KHs21pTCG9YP"
      ]
    },
    "kernelspec": {
      "name": "python3",
      "display_name": "Python 3"
    },
    "language_info": {
      "name": "python"
    }
  },
  "cells": [
    {
      "cell_type": "markdown",
      "source": [
        "# **Imports**"
      ],
      "metadata": {
        "id": "SaC81G04L0bh"
      }
    },
    {
      "cell_type": "code",
      "source": [
        "!pip install reportlab"
      ],
      "metadata": {
        "colab": {
          "base_uri": "https://localhost:8080/"
        },
        "id": "OM4t5CZ6mPq4",
        "outputId": "2cd31d4e-1612-45bc-b8cd-e660ceccf7ba"
      },
      "execution_count": null,
      "outputs": [
        {
          "output_type": "stream",
          "name": "stdout",
          "text": [
            "Collecting reportlab\n",
            "  Downloading reportlab-4.4.2-py3-none-any.whl.metadata (1.8 kB)\n",
            "Requirement already satisfied: pillow>=9.0.0 in /usr/local/lib/python3.11/dist-packages (from reportlab) (11.2.1)\n",
            "Requirement already satisfied: charset-normalizer in /usr/local/lib/python3.11/dist-packages (from reportlab) (3.4.2)\n",
            "Downloading reportlab-4.4.2-py3-none-any.whl (2.0 MB)\n",
            "\u001b[2K   \u001b[90m━━━━━━━━━━━━━━━━━━━━━━━━━━━━━━━━━━━━━━━━\u001b[0m \u001b[32m2.0/2.0 MB\u001b[0m \u001b[31m20.1 MB/s\u001b[0m eta \u001b[36m0:00:00\u001b[0m\n",
            "\u001b[?25hInstalling collected packages: reportlab\n",
            "Successfully installed reportlab-4.4.2\n"
          ]
        }
      ]
    },
    {
      "cell_type": "code",
      "execution_count": null,
      "metadata": {
        "id": "LUJ3ZBEVUHdj"
      },
      "outputs": [],
      "source": [
        "import json\n",
        "import pandas as pd\n",
        "import numpy as np\n",
        "import matplotlib.pyplot as plt\n",
        "import seaborn as sns\n",
        "import glob\n",
        "import json\n",
        "from collections import Counter\n",
        "import datetime\n",
        "from reportlab.platypus import SimpleDocTemplate, Paragraph, Spacer, Image\n",
        "from reportlab.lib.styles import getSampleStyleSheet, ParagraphStyle\n",
        "from reportlab.lib.units import inch\n",
        "from reportlab.lib.enums import TA_CENTER"
      ]
    },
    {
      "cell_type": "markdown",
      "source": [
        "# **Data Exploration**"
      ],
      "metadata": {
        "id": "deU3v3p0eBHh"
      }
    },
    {
      "cell_type": "code",
      "source": [
        "import pandas as pd\n",
        "import json\n",
        "from google.colab import drive\n",
        "import os\n",
        "\n",
        "# --- Mount Google Drive ---\n",
        "drive.mount('/content/drive')\n",
        "drive_path = '/content/drive/My Drive/VQA_Data/'\n",
        "\n",
        "# --- 1. Load and Explore Question Files ---\n",
        "print(\"\\n\" + \"#\"*60)\n",
        "print(\" Part 1: Exploring Question Files from Google Drive\")\n",
        "print(\"#\"*60)\n",
        "\n",
        "# Update file names with the full path from Google Drive\n",
        "question_files = {\n",
        "    'train2014': f'{drive_path}v2_OpenEnded_mscoco_train2014_questions.json',\n",
        "    'val2014': f'{drive_path}v2_OpenEnded_mscoco_val2014_questions.json',\n",
        "    'test2015': f'{drive_path}v2_OpenEnded_mscoco_test2015_questions.json',\n",
        "    'test-dev2015': f'{drive_path}v2_OpenEnded_mscoco_test-dev2015_questions.json'\n",
        "}\n",
        "\n",
        "all_questions_dfs = []\n",
        "for dataset_name, fname in question_files.items():\n",
        "    try:\n",
        "        with open(fname, 'r') as f:\n",
        "            # The JSON structure contains a 'questions' key\n",
        "            data = json.load(f)\n",
        "            df = pd.DataFrame(data['questions'])\n",
        "            # Add a 'dataset' column to identify the source\n",
        "            df['dataset'] = dataset_name\n",
        "            all_questions_dfs.append(df)\n",
        "    except FileNotFoundError:\n",
        "        print(f\"Warning: File not found: {fname}. Skipping.\")\n",
        "        continue\n",
        "    except Exception as e:\n",
        "        print(f\"An error occurred while loading {fname}: {e}\")\n",
        "\n",
        "if not all_questions_dfs:\n",
        "    print(\"\\nError: No question data loaded. Halting exploration of question files.\")\n",
        "else:\n",
        "    all_questions_df = pd.concat(all_questions_dfs, ignore_index=True)\n",
        "    print(f\"\\nSuccessfully loaded and combined {len(all_questions_df)} questions.\")\n",
        "\n",
        "    print(\"\\n\\nSample of the combined data:\")\n",
        "    print(all_questions_df.head().to_string())\n",
        "\n",
        "    # --- Using .info() for a Technical Summary ---\n",
        "    print(\"\\n\" + \"=\"*50)\n",
        "    print(\" Technical Summary of All Questions\")\n",
        "    print(\"=\"*50)\n",
        "    all_questions_df.info()\n",
        "\n",
        "    # --- Using .describe() for Statistical Summaries ---\n",
        "    print(\"\\n\" + \"=\"*50)\n",
        "    print(\" Descriptive Statistics for Numerical Columns (All Questions)\")\n",
        "    print(\"=\"*50)\n",
        "    print(all_questions_df.describe())\n",
        "\n",
        "    print(\"\\n\" + \"=\"*50)\n",
        "    print(\" Descriptive Statistics for Text Columns (All Questions)\")\n",
        "    print(\"=\"*50)\n",
        "    print(all_questions_df.describe(include=['object']))\n",
        "\n",
        "\n",
        "# --- 2. Load and Explore Complementary Pairs Files ---\n",
        "print(\"\\n\\n\" + \"#\"*60)\n",
        "print(\" Part 2: Exploring Complementary Pairs Files from Google Drive\")\n",
        "print(\"#\"*60)\n",
        "\n",
        "# Update file names with the full path from Google Drive\n",
        "complementary_pair_files = [\n",
        "    f'{drive_path}v2_mscoco_train2014_complementary_pairs.json',\n",
        "    f'{drive_path}v2_mscoco_val2014_complementary_pairs.json'\n",
        "]\n",
        "\n",
        "all_pairs_dfs = []\n",
        "for fname in complementary_pair_files:\n",
        "    try:\n",
        "        with open(fname, 'r') as f:\n",
        "            # This data is a list of lists, not a JSON object with a key\n",
        "            pairs_list = json.load(f)\n",
        "            df = pd.DataFrame(pairs_list, columns=['question_id_1', 'question_id_2'])\n",
        "            all_pairs_dfs.append(df)\n",
        "    except FileNotFoundError:\n",
        "        print(f\"Warning: File not found: {fname}. Skipping.\")\n",
        "        continue\n",
        "    except Exception as e:\n",
        "        print(f\"An error occurred loading {fname}: {e}\")\n",
        "\n",
        "if not all_pairs_dfs:\n",
        "    print(\"\\nError: No complementary pairs data loaded.\")\n",
        "else:\n",
        "    all_pairs_df = pd.concat(all_pairs_dfs, ignore_index=True)\n",
        "    print(f\"\\nSuccessfully loaded and combined {len(all_pairs_df)} complementary pairs.\")\n",
        "\n",
        "    # --- Using .info() for a Technical Summary ---\n",
        "    print(\"\\n\" + \"=\"*50)\n",
        "    print(\" Technical Summary of Complementary Pairs\")\n",
        "    print(\"=\"*50)\n",
        "    all_pairs_df.info()\n",
        "\n",
        "    # --- Using .describe() for Statistical Summaries ---\n",
        "    print(\"\\n\" + \"=\"*50)\n",
        "    print(\" Descriptive Statistics for Numerical Columns (Complementary Pairs)\")\n",
        "    print(\"=\"*50)\n",
        "    print(all_pairs_df.describe())"
      ],
      "metadata": {
        "colab": {
          "base_uri": "https://localhost:8080/"
        },
        "id": "Ze4Wa_i0ZvxL",
        "outputId": "2a6fd53d-c374-46c8-ed8e-e4824d5b58e7"
      },
      "execution_count": null,
      "outputs": [
        {
          "output_type": "stream",
          "name": "stdout",
          "text": [
            "Mounted at /content/drive\n",
            "\n",
            "############################################################\n",
            " Part 1: Exploring Question Files from Google Drive\n",
            "############################################################\n",
            "\n",
            "Successfully loaded and combined 1213298 questions.\n",
            "\n",
            "\n",
            "Sample of the combined data:\n",
            "   image_id                                     question  question_id    dataset\n",
            "0    458752    What is this photo taken looking through?    458752000  train2014\n",
            "1    458752           What position is this man playing?    458752001  train2014\n",
            "2    458752             What color is the players shirt?    458752002  train2014\n",
            "3    458752  Is this man a professional baseball player?    458752003  train2014\n",
            "4    262146                      What color is the snow?    262146000  train2014\n",
            "\n",
            "==================================================\n",
            " Technical Summary of All Questions\n",
            "==================================================\n",
            "<class 'pandas.core.frame.DataFrame'>\n",
            "RangeIndex: 1213298 entries, 0 to 1213297\n",
            "Data columns (total 4 columns):\n",
            " #   Column       Non-Null Count    Dtype \n",
            "---  ------       --------------    ----- \n",
            " 0   image_id     1213298 non-null  int64 \n",
            " 1   question     1213298 non-null  object\n",
            " 2   question_id  1213298 non-null  int64 \n",
            " 3   dataset      1213298 non-null  object\n",
            "dtypes: int64(2), object(2)\n",
            "memory usage: 37.0+ MB\n",
            "\n",
            "==================================================\n",
            " Descriptive Statistics for Numerical Columns (All Questions)\n",
            "==================================================\n",
            "           image_id   question_id\n",
            "count  1.213298e+06  1.213298e+06\n",
            "mean   2.908766e+05  2.908766e+08\n",
            "std    1.679684e+05  1.679684e+08\n",
            "min    1.000000e+00  1.000000e+03\n",
            "25%    1.450660e+05  1.450660e+08\n",
            "50%    2.915150e+05  2.915150e+08\n",
            "75%    4.359020e+05  4.359020e+08\n",
            "max    5.819290e+05  5.819290e+08\n",
            "\n",
            "==================================================\n",
            " Descriptive Statistics for Text Columns (All Questions)\n",
            "==================================================\n",
            "                  question   dataset\n",
            "count              1213298   1213298\n",
            "unique              332793         4\n",
            "top     What room is this?  test2015\n",
            "freq                  3475    447793\n",
            "\n",
            "\n",
            "############################################################\n",
            " Part 2: Exploring Complementary Pairs Files from Google Drive\n",
            "############################################################\n",
            "\n",
            "Successfully loaded and combined 295538 complementary pairs.\n",
            "\n",
            "==================================================\n",
            " Technical Summary of Complementary Pairs\n",
            "==================================================\n",
            "<class 'pandas.core.frame.DataFrame'>\n",
            "RangeIndex: 295538 entries, 0 to 295537\n",
            "Data columns (total 2 columns):\n",
            " #   Column         Non-Null Count   Dtype\n",
            "---  ------         --------------   -----\n",
            " 0   question_id_1  295538 non-null  int64\n",
            " 1   question_id_2  295538 non-null  int64\n",
            "dtypes: int64(2)\n",
            "memory usage: 4.5 MB\n",
            "\n",
            "==================================================\n",
            " Descriptive Statistics for Numerical Columns (Complementary Pairs)\n",
            "==================================================\n",
            "       question_id_1  question_id_2\n",
            "count   2.955380e+05   2.955380e+05\n",
            "mean    2.905082e+08   2.904939e+08\n",
            "std     1.680993e+08   1.676383e+08\n",
            "min     9.000000e+03   2.500000e+04\n",
            "25%     1.443790e+08   1.440900e+08\n",
            "50%     2.907670e+08   2.907080e+08\n",
            "75%     4.360475e+08   4.349620e+08\n",
            "max     5.819290e+08   5.819290e+08\n"
          ]
        }
      ]
    },
    {
      "cell_type": "markdown",
      "source": [
        "# **Task 1: VQA System Performance Dashboard**"
      ],
      "metadata": {
        "id": "9WnWqjZcLt-W"
      }
    },
    {
      "cell_type": "markdown",
      "source": [
        "**Query Volume**"
      ],
      "metadata": {
        "id": "x7aIGgTND_Hx"
      }
    },
    {
      "cell_type": "code",
      "source": [
        "print(\"\\nVQA System Performance Dashboard\")\n",
        "print(\"\\nMetric: Query Volume\")\n",
        "total_query_volume = len(all_questions_df)\n",
        "# Corrected to use the 'dataset' column which is now added during loading\n",
        "volume_by_dataset = all_questions_df['dataset'].value_counts()\n",
        "\n",
        "print(f\"\\nTotal Query Volume (All Datasets): {total_query_volume}\")\n",
        "print(\"\\nQuery Volume by Dataset Split:\")\n",
        "print(volume_by_dataset.to_string())\n",
        "\n",
        "print(\"\\nGenerating visualization of query volume by dataset...\")\n",
        "plt.figure(figsize=(10, 6))\n",
        "sns.barplot(x=volume_by_dataset.index, y=volume_by_dataset.values, palette='mako')\n",
        "plt.title('Query Volume by Dataset')\n",
        "plt.xlabel('Dataset Split')\n",
        "plt.ylabel('Number of Questions')\n",
        "plt.savefig('query_volume_by_dataset.png')\n",
        "print(\"Saved chart as 'query_volume_by_dataset.png'\")\n",
        "plt.show()"
      ],
      "metadata": {
        "colab": {
          "base_uri": "https://localhost:8080/"
        },
        "id": "HXZlOnNaVIr0",
        "outputId": "dad90472-8139-4fb9-89d9-161c032d2c0c"
      },
      "execution_count": null,
      "outputs": [
        {
          "output_type": "stream",
          "name": "stdout",
          "text": [
            "\n",
            "VQA System Performance Dashboard\n",
            "\n",
            "Metric: Query Volume\n",
            "\n",
            "Total Query Volume (All Datasets): 1213298\n",
            "\n",
            "Query Volume by Dataset Split:\n",
            "dataset\n",
            "test2015        447793\n",
            "train2014       443757\n",
            "val2014         214354\n",
            "test-dev2015    107394\n",
            "\n",
            "Generating visualization of query volume by dataset...\n"
          ]
        },
        {
          "output_type": "stream",
          "name": "stderr",
          "text": [
            "/tmp/ipython-input-4-2880600185.py:13: FutureWarning: \n",
            "\n",
            "Passing `palette` without assigning `hue` is deprecated and will be removed in v0.14.0. Assign the `x` variable to `hue` and set `legend=False` for the same effect.\n",
            "\n",
            "  sns.barplot(x=volume_by_dataset.index, y=volume_by_dataset.values, palette='mako')\n"
          ]
        },
        {
          "output_type": "stream",
          "name": "stdout",
          "text": [
            "Saved chart as 'query_volume_by_dataset.png'\n"
          ]
        },
        {
          "output_type": "display_data",
          "data": {
            "text/plain": [
              "<Figure size 1000x600 with 1 Axes>"
            ],
            "image/png": "[encoded data removed]"
          },
          "metadata": {}
        }
      ]
    },
    {
      "cell_type": "markdown",
      "source": [
        "**Response Accuracy**"
      ],
      "metadata": {
        "id": "0TF-Yb51EDjK"
      }
    },
    {
      "cell_type": "code",
      "source": [
        "print(\"--- Calculating Response Accuracy (Weighted Score Method) ---\")\n",
        "\n",
        "questions_file_name = f'{drive_path}v2_OpenEnded_mscoco_val2014_questions.json'\n",
        "annotations_file_name = f'{drive_path}v2_mscoco_val2014_annotations.json'\n",
        "\n",
        "try:\n",
        "    with open(questions_file_name, 'r') as f:\n",
        "        questions_data = json.load(f)\n",
        "        questions_df = pd.DataFrame(questions_data['questions'])\n",
        "    print(f\"Successfully loaded {questions_file_name}\")\n",
        "\n",
        "    with open(annotations_file_name, 'r') as f:\n",
        "        annotations_data = json.load(f)\n",
        "        annotations_df = pd.DataFrame(annotations_data['annotations'])\n",
        "    print(f\"Successfully loaded {annotations_file_name}\")\n",
        "\n",
        "except FileNotFoundError as e:\n",
        "    print(f\"\\nError: {e}. Please make sure the required files are in the correct Google Drive directory.\")\n",
        "\n",
        "\n",
        "# Check if DataFrames were loaded successfully before proceeding\n",
        "if 'questions_df' in locals() and 'annotations_df' in locals():\n",
        "\n",
        "    def calculate_weighted_answerability(answer_list):\n",
        "        \"\"\"\n",
        "        Calculates a weighted score based on the confidence of human annotators.\n",
        "        Score mapping: 'yes' = 1.0, 'maybe' = 0.5, 'no' = 0.0\n",
        "        \"\"\"\n",
        "        score = 0.0\n",
        "        confidence_weights = {'yes': 1.0, 'maybe': 0.5, 'no': 0.0}\n",
        "\n",
        "        for ans in answer_list:\n",
        "            confidence = ans.get('answer_confidence', 'no').lower()\n",
        "            score += confidence_weights.get(confidence, 0.0)  # Defaults to 0 if confidence value is unexpected\n",
        "\n",
        "        # Return the average score for the question\n",
        "        if not answer_list:\n",
        "            return 0\n",
        "        return score / len(answer_list)\n",
        "\n",
        "    # Apply the function to the 'answers' column\n",
        "    annotations_df['answerability_score'] = annotations_df['answers'].apply(calculate_weighted_answerability)\n",
        "\n",
        "    # --- Calculate Overall Response Accuracy for the Dashboard ---\n",
        "    overall_response_accuracy = annotations_df['answerability_score'].mean() * 100\n",
        "\n",
        "    print(\"\\n--- VQA Dashboard Metric (Weighted) ---\")\n",
        "    print(f\"Overall Response Accuracy (based on Weighted Answerability): {overall_response_accuracy:.2f}%\")\n",
        "    print(\"This score reflects the average confidence across all answers, with 'yes'=1, 'maybe'=0.5, and 'no'=0.\")\n",
        "\n",
        "\n",
        "    # --- Display Example Questions ---\n",
        "    qa_df = pd.merge(annotations_df, questions_df, on='question_id')\n",
        "\n",
        "    def get_majority_answer(answer_list):\n",
        "        \"\"\"Finds the most frequent answer from a list of answer objects.\"\"\"\n",
        "        answers = [ans['answer'] for ans in answer_list]\n",
        "        if not answers:\n",
        "            return \"N/A\"\n",
        "        return max(set(answers), key=answers.count)\n",
        "\n",
        "    qa_df['majority_answer'] = qa_df['answers'].apply(get_majority_answer)\n",
        "\n",
        "    print(\"\\n--- Sample Questions (Ranked by Weighted Score) ---\")\n",
        "\n",
        "    print(\"\\nTop 5 Most Answerable Questions (Highest Weighted Score):\")\n",
        "    high_confidence_df = qa_df.sort_values(by='answerability_score', ascending=False).head(5)\n",
        "    print(high_confidence_df[['question', 'majority_answer', 'answerability_score']].to_string(index=False))\n",
        "\n",
        "    print(\"\\n\\nTop 5 Least Answerable Questions (Lowest Weighted Score):\")\n",
        "    low_confidence_df = qa_df.sort_values(by='answerability_score', ascending=True).head(5)\n",
        "    print(low_confidence_df[['question', 'majority_answer', 'answerability_score']].to_string(index=False))\n",
        "\n",
        "else:\n",
        "    print(\"\\nCould not proceed with calculations because one or more data files failed to load.\")"
      ],
      "metadata": {
        "colab": {
          "base_uri": "https://localhost:8080/"
        },
        "id": "T4ad5lXD4gT9",
        "outputId": "83291f19-eacd-49f9-f0c6-16fa086fe211"
      },
      "execution_count": null,
      "outputs": [
        {
          "output_type": "stream",
          "name": "stdout",
          "text": [
            "--- Calculating Response Accuracy (Weighted Score Method) ---\n",
            "Successfully loaded /content/drive/My Drive/VQA_Data/v2_OpenEnded_mscoco_val2014_questions.json\n",
            "Successfully loaded /content/drive/My Drive/VQA_Data/v2_mscoco_val2014_annotations.json\n",
            "\n",
            "--- VQA Dashboard Metric (Weighted) ---\n",
            "Overall Response Accuracy (based on Weighted Answerability): 89.26%\n",
            "This score reflects the average confidence across all answers, with 'yes'=1, 'maybe'=0.5, and 'no'=0.\n",
            "\n",
            "--- Sample Questions (Ranked by Weighted Score) ---\n",
            "\n",
            "Top 5 Most Answerable Questions (Highest Weighted Score):\n",
            "                           question majority_answer  answerability_score\n",
            "Does the arrow point left or right?            left                  1.0\n",
            "                 What room is this?        bathroom                  1.0\n",
            "               Are the windows big?             yes                  1.0\n",
            "         Are these twin mattresses?              no                  1.0\n",
            "                     How many beds?               1                  1.0\n",
            "\n",
            "\n",
            "Top 5 Least Answerable Questions (Lowest Weighted Score):\n",
            "                            question majority_answer  answerability_score\n",
            "       What city is this photo from?         glasgow                 0.00\n",
            "       What is the name of the book?               e                 0.00\n",
            "What does the cell phone screen say?      don't know                 0.05\n",
            "                  What city is this?          london                 0.05\n",
            "                   Who is the owner?           human                 0.05\n"
          ]
        }
      ]
    },
    {
      "cell_type": "markdown",
      "source": [
        "# **Task 2:**"
      ],
      "metadata": {
        "id": "m7fXuuEACHLL"
      }
    },
    {
      "cell_type": "markdown",
      "source": [
        "**Product attributes and features of interest**"
      ],
      "metadata": {
        "id": "9TOtlEhiEXJi"
      }
    },
    {
      "cell_type": "code",
      "source": [
        "# --- 1. Load All Question Files from Google Drive ---\n",
        "file_names = [\n",
        "    f'{drive_path}v2_OpenEnded_mscoco_train2014_questions.json',\n",
        "    f'{drive_path}v2_OpenEnded_mscoco_val2014_questions.json',\n",
        "    f'{drive_path}v2_OpenEnded_mscoco_test2015_questions.json',\n",
        "    f'{drive_path}v2_OpenEnded_mscoco_test-dev2015_questions.json'\n",
        "]\n",
        "all_questions_dfs = []\n",
        "\n",
        "print(\"Loading all question files from Google Drive...\")\n",
        "for fname in file_names:\n",
        "    try:\n",
        "        with open(fname, 'r') as f:\n",
        "            data = json.load(f)\n",
        "            df = pd.DataFrame(data['questions'])\n",
        "            all_questions_dfs.append(df)\n",
        "            print(f\" -> Successfully loaded {fname.split('/')[-1]}\")\n",
        "    except FileNotFoundError:\n",
        "        print(f\"Warning: File not found: {fname}. Skipping.\")\n",
        "        continue\n",
        "    except Exception as e:\n",
        "        print(f\"An error occurred while loading {fname}: {e}\")\n",
        "\n",
        "if not all_questions_dfs:\n",
        "    print(\"\\nError: No question data loaded. Halting execution.\")\n",
        "    exit()\n",
        "\n",
        "all_questions_df = pd.concat(all_questions_dfs, ignore_index=True)\n",
        "print(f\"\\nSuccessfully loaded and combined a total of {len(all_questions_df)} questions.\")\n",
        "\n",
        "\n",
        "# --- 2. Define E-commerce Attribute Keywords & Categorize ---\n",
        "attribute_keywords = {\n",
        "    'Color': ['color', 'black', 'white', 'red', 'blue', 'green', 'yellow', 'brown', 'orange', 'purple', 'pink', 'gray', 'silver', 'gold'],\n",
        "    'Material': ['material', 'made of', 'wood', 'wooden', 'metal', 'metallic', 'plastic', 'glass', 'leather', 'cotton', 'fabric', 'ceramic', 'stone'],\n",
        "    'Size & Shape': ['size', 'shape', 'big', 'large', 'small', 'tiny', 'long', 'short', 'tall', 'wide', 'round', 'square', 'rectangular', 'circular', 'how big', 'how large', 'how tall'],\n",
        "    'Texture & Pattern': ['texture', 'pattern', 'striped', 'dotted', 'plaid', 'checkered', 'smooth', 'rough', 'shiny', 'matte', 'blurry'],\n",
        "    'Brand & Logo': ['brand', 'logo', 'make', 'company', 'sign', 'symbol']\n",
        "}\n",
        "\n",
        "print(\"\\nCategorizing questions based on keywords...\")\n",
        "\n",
        "# Create a copy to avoid SettingWithCopyWarning\n",
        "categorized_df = all_questions_df.copy()\n",
        "\n",
        "def find_category(question_text, keywords):\n",
        "    \"\"\"Checks for the presence of any keyword for a given category.\"\"\"\n",
        "    # Add spaces to ensure whole-word matching\n",
        "    padded_question = f' {question_text.lower()} '\n",
        "    for keyword in keywords:\n",
        "        if f' {keyword} ' in padded_question:\n",
        "            return True\n",
        "    return False\n",
        "\n",
        "# Apply the function for each attribute category\n",
        "for category, keywords in attribute_keywords.items():\n",
        "    categorized_df[category] = categorized_df['question'].apply(lambda q: find_category(q, keywords))\n",
        "\n",
        "# Calculate the count for each category\n",
        "attribute_counts = {category: categorized_df[category].sum() for category in attribute_keywords}\n",
        "\n",
        "# Convert to a pandas Series for easy sorting and plotting\n",
        "attribute_counts_series = pd.Series(attribute_counts).sort_values(ascending=False)\n",
        "\n",
        "print(\"\\n--- Most Common Product Attributes Mentioned in Questions ---\")\n",
        "print(attribute_counts_series.to_string())\n",
        "\n",
        "\n",
        "# --- 3. Visualize the Findings ---\n",
        "plt.figure(figsize=(12, 8))\n",
        "sns.barplot(x=attribute_counts_series.index, y=attribute_counts_series.values, palette='viridis')\n",
        "plt.title('Most Common Product Attributes of Interest in User Questions', fontsize=16)\n",
        "plt.xlabel('Product Attribute', fontsize=12)\n",
        "plt.ylabel('Number of Questions', fontsize=12)\n",
        "plt.xticks(rotation=45, ha='right')\n",
        "plt.tight_layout() # Adjust layout to make room for rotated labels\n",
        "\n",
        "# Save the figure to your Google Drive\n",
        "output_image_path = f'{drive_path}common_product_attributes.png'\n",
        "plt.savefig(output_image_path)\n",
        "print(f\"\\nSaved visualization of common product attributes to your Google Drive at: {output_image_path}\")\n",
        "plt.show()"
      ],
      "metadata": {
        "colab": {
          "base_uri": "https://localhost:8080/"
        },
        "id": "rsRgMXU1CJ-z",
        "outputId": "1077b70a-2813-4011-8945-498998897c38"
      },
      "execution_count": null,
      "outputs": [
        {
          "output_type": "stream",
          "name": "stdout",
          "text": [
            "Loading all question files from Google Drive...\n",
            " -> Successfully loaded v2_OpenEnded_mscoco_train2014_questions.json\n",
            " -> Successfully loaded v2_OpenEnded_mscoco_val2014_questions.json\n",
            " -> Successfully loaded v2_OpenEnded_mscoco_test2015_questions.json\n",
            " -> Successfully loaded v2_OpenEnded_mscoco_test-dev2015_questions.json\n",
            "\n",
            "Successfully loaded and combined a total of 1213298 questions.\n",
            "\n",
            "Categorizing questions based on keywords...\n",
            "\n",
            "--- Most Common Product Attributes Mentioned in Questions ---\n",
            "Color                152026\n",
            "Brand & Logo          20182\n",
            "Size & Shape          15387\n",
            "Material               8769\n",
            "Texture & Pattern      3992\n"
          ]
        },
        {
          "output_type": "stream",
          "name": "stderr",
          "text": [
            "/tmp/ipython-input-6-3851610395.py:71: FutureWarning: \n",
            "\n",
            "Passing `palette` without assigning `hue` is deprecated and will be removed in v0.14.0. Assign the `x` variable to `hue` and set `legend=False` for the same effect.\n",
            "\n",
            "  sns.barplot(x=attribute_counts_series.index, y=attribute_counts_series.values, palette='viridis')\n"
          ]
        },
        {
          "output_type": "stream",
          "name": "stdout",
          "text": [
            "\n",
            "Saved visualization of common product attributes to your Google Drive at: /content/drive/My Drive/VQA_Data/common_product_attributes.png\n"
          ]
        },
        {
          "output_type": "display_data",
          "data": {
            "text/plain": [
              "<Figure size 1200x800 with 1 Axes>"
            ],
            "image/png": "[encoded data removed]"
          },
          "metadata": {}
        }
      ]
    },
    {
      "cell_type": "markdown",
      "source": [
        "# **Task 3: Identify \"Unanswered\" or \"Poorly Answered\" Questions**"
      ],
      "metadata": {
        "id": "q4Ads-BbON-4"
      }
    },
    {
      "cell_type": "code",
      "source": [
        "# --- Load Files from Google Drive ---\n",
        "print(\"Loading files from Google Drive...\")\n",
        "try:\n",
        "    questions_file_path = f'{drive_path}v2_OpenEnded_mscoco_val2014_questions.json'\n",
        "    annotations_file_path = f'{drive_path}v2_mscoco_val2014_annotations.json'\n",
        "\n",
        "    with open(questions_file_path, 'r') as f:\n",
        "        questions_df = pd.DataFrame(json.load(f)['questions'])\n",
        "    print(f\" -> Successfully loaded: {questions_file_path.split('/')[-1]}\")\n",
        "\n",
        "    with open(annotations_file_path, 'r') as f:\n",
        "        annotations_df = pd.DataFrame(json.load(f)['annotations'])\n",
        "    print(f\" -> Successfully loaded: {annotations_file_path.split('/')[-1]}\")\n",
        "\n",
        "except FileNotFoundError as e:\n",
        "    print(f\"\\nError: {e}. Please ensure the necessary files are in the correct Google Drive directory.\")\n",
        "    exit()\n",
        "\n",
        "# --- 1. Define Calculation Functions ---\n",
        "\n",
        "def calculate_agreement_score(answer_list):\n",
        "    \"\"\"Calculates agreement as the frequency of the most common answer.\"\"\"\n",
        "    if not answer_list: return 0\n",
        "    answer_texts = [ans['answer'] for ans in answer_list]\n",
        "    if not answer_texts: return 0\n",
        "    # Use Counter to find the count of the most frequent answer\n",
        "    most_common_count = Counter(answer_texts).most_common(1)[0][1]\n",
        "    return most_common_count / len(answer_texts)\n",
        "\n",
        "def calculate_confidence_score(answer_list):\n",
        "    \"\"\"Calculates a weighted average of answer confidence.\"\"\"\n",
        "    if not answer_list: return 0\n",
        "    weights = {'yes': 1.0, 'maybe': 0.5, 'no': 0.0}\n",
        "    total_score = sum(weights.get(ans.get('answer_confidence', 'no').lower(), 0.0) for ans in answer_list)\n",
        "    return total_score / len(answer_list)\n",
        "\n",
        "# --- 2. Calculate Scores for Each Question ---\n",
        "print(\"\\nCalculating agreement and confidence scores...\")\n",
        "annotations_df['agreement_score'] = annotations_df['answers'].apply(calculate_agreement_score)\n",
        "annotations_df['confidence_score'] = annotations_df['answers'].apply(calculate_confidence_score)\n",
        "\n",
        "# --- 3. Combine Scores into a Single \"Difficulty Score\" ---\n",
        "# A higher score indicates a more difficult or \"poorly answered\" question.\n",
        "# We weigh agreement more heavily as low agreement is a strong indicator of ambiguity.\n",
        "annotations_df['difficulty_score'] = (0.6 * (1 - annotations_df['agreement_score'])) + (0.4 * (1 - annotations_df['confidence_score']))\n",
        "\n",
        "# --- 4. Merge Data and Identify Weaknesses ---\n",
        "print(\"Merging data and identifying top weaknesses...\")\n",
        "qa_df = pd.merge(annotations_df, questions_df, on='question_id')\n",
        "poorly_answered_df = qa_df.sort_values(by='difficulty_score', ascending=False)\n",
        "\n",
        "# --- 5. Display the Results ---\n",
        "def format_answers(answer_list):\n",
        "    \"\"\"Creates a summary of unique answers and their counts for display.\"\"\"\n",
        "    answer_counts = Counter(ans['answer'] for ans in answer_list)\n",
        "    # Shows up to 5 most common answers and their counts\n",
        "    return ', '.join([f\"'{ans}' ({count})\" for ans, count in answer_counts.most_common(5)])\n",
        "\n",
        "poorly_answered_df['answer_summary'] = poorly_answered_df['answers'].apply(format_answers)\n",
        "\n",
        "print(\"\\n--- Top 15 Most Difficult ('Poorly Answered') Questions ---\")\n",
        "display_cols = ['question', 'answer_summary', 'difficulty_score', 'agreement_score', 'confidence_score']\n",
        "print(poorly_answered_df[display_cols].head(15).to_string())"
      ],
      "metadata": {
        "colab": {
          "base_uri": "https://localhost:8080/"
        },
        "id": "suGJAvtyF4E2",
        "outputId": "834c0143-4733-49d1-fd29-c66927a7ea32"
      },
      "execution_count": null,
      "outputs": [
        {
          "output_type": "stream",
          "name": "stdout",
          "text": [
            "Loading files from Google Drive...\n",
            " -> Successfully loaded: v2_OpenEnded_mscoco_val2014_questions.json\n",
            " -> Successfully loaded: v2_mscoco_val2014_annotations.json\n",
            "\n",
            "Calculating agreement and confidence scores...\n",
            "Merging data and identifying top weaknesses...\n",
            "\n",
            "--- Top 15 Most Difficult ('Poorly Answered') Questions ---\n",
            "                                                                        question                                                                           answer_summary  difficulty_score  agreement_score  confidence_score\n",
            "39673                                              What city is this photo from?             'los angeles' (1), 'new jersey' (1), 'ny' (1), 'glasgow' (1), 'new york' (1)              0.94              0.1              0.00\n",
            "73192                                       What does the cell phone screen say?         'unknown' (1), 'illegible' (1), 't mobile' (1), 'restricted' (1), 'language' (1)              0.92              0.1              0.05\n",
            "51421                                                How fast can a giraffe run?          '20 mph' (1), '25 mph' (1), '15 miles per hour' (1), '30 mph' (1), '10 mph' (1)              0.90              0.1              0.10\n",
            "212418                                          What does the license plate say?                   'license number' (1), '0' (1), '9090' (1), '11089' (1), 'fii 6958' (1)              0.90              0.1              0.10\n",
            "202528                      What year and model is the motorcycle in the middle?  '1999 custom' (1), 'old' (1), '1986 harley davidson' (1), '2000' (1), 'harley 1986' (1)              0.90              0.1              0.10\n",
            "15842                                                       Who owns this plane?                       'plazen' (1), 'don't know' (1), 'army' (1), 'pilot' (1), 'usa' (1)              0.90              0.1              0.10\n",
            "78316                                                        What beach is this?       'myrtle' (1), 'new mexico' (1), 'san diego' (1), 'havasu' (1), 'atlantic city' (1)              0.90              0.1              0.10\n",
            "70289                                      What district was the photo taken in?                  'london' (1), 'slow 1' (1), 'local' (1), 'columbia' (1), 'downtown' (1)              0.90              0.1              0.10\n",
            "21354                                What is the number on the back of this bus?                                '0' (1), '5' (1), '143' (1), 'don't know' (1), '2013' (1)              0.88              0.1              0.15\n",
            "148477                                           What is the name on the collar?                         'joe' (1), 'na' (1), 'kitty' (1), 'fluffy' (1), 'can't read' (1)              0.88              0.1              0.15\n",
            "72316                         How much seafood should the average adult consume?     '4 ounces week' (1), '2 lbs' (1), '7 servings week' (1), '1-2 per week' (1), '4' (1)              0.88              0.1              0.15\n",
            "186613  What style of photography do the dark edges around this photo represent?                      'dark vignette' (1), 'noir' (1), 'n/a' (1), 'frank' (1), 'fade' (1)              0.88              0.1              0.15\n",
            "189820                                     What is the first stop on this train?             'cannot tell' (1), 'san diego' (1), 'dallas' (1), 'kentucky' (1), 'here' (1)              0.88              0.1              0.15\n",
            "25029                                             What is the name of the store?    'japanese' (1), 'foreign' (1), 'squiggle' (1), 'something in japanese' (1), '130' (1)              0.88              0.1              0.15\n",
            "62284                                            How much does the animal weigh?                       '150 lbs' (1), '150 pounds' (1), '550' (1), '50 kg' (1), 'lot' (1)              0.88              0.1              0.15\n"
          ]
        }
      ]
    },
    {
      "cell_type": "markdown",
      "source": [
        "# **Task 4:**"
      ],
      "metadata": {
        "id": "KHs21pTCG9YP"
      }
    },
    {
      "cell_type": "code",
      "source": [
        "# --- 1. Load All Question Data from Google Drive ---\n",
        "print(\"Loading all files from Google Drive...\")\n",
        "file_names = [\n",
        "    f'{drive_path}v2_OpenEnded_mscoco_train2014_questions.json',\n",
        "    f'{drive_path}v2_OpenEnded_mscoco_val2014_questions.json',\n",
        "    f'{drive_path}v2_OpenEnded_mscoco_test2015_questions.json',\n",
        "    f'{drive_path}v2_OpenEnded_mscoco_test-dev2015_questions.json'\n",
        "]\n",
        "all_questions_dfs = []\n",
        "for fname in file_names:\n",
        "    try:\n",
        "        with open(fname, 'r') as f:\n",
        "            all_questions_dfs.append(pd.DataFrame(json.load(f)['questions']))\n",
        "        print(f\" -> Successfully loaded: {fname.split('/')[-1]}\")\n",
        "    except FileNotFoundError:\n",
        "        print(f\"Warning: File not found: {fname}. Skipping.\")\n",
        "        continue\n",
        "    except Exception as e:\n",
        "        print(f\"An error occurred while loading {fname}: {e}\")\n",
        "\n",
        "if not all_questions_dfs:\n",
        "    print(\"\\nError: No question data loaded. Halting execution.\")\n",
        "    exit()\n",
        "\n",
        "all_questions_df = pd.concat(all_questions_dfs, ignore_index=True)\n",
        "print(f\"\\nSuccessfully loaded and combined {len(all_questions_df)} questions.\")\n",
        "\n",
        "# --- 2. Analyze Most Requested Colors ---\n",
        "print(\"\\n--- Task: Generate Report for Merchandising Team (Focused on Variations) ---\")\n",
        "color_keywords = ['black', 'white', 'red', 'blue', 'green', 'yellow', 'brown', 'orange', 'purple', 'pink', 'gray', 'silver', 'gold']\n",
        "\n",
        "# Find all questions that contain any of the color keywords\n",
        "color_questions_mask = all_questions_df['question'].str.contains('|'.join(color_keywords), case=False, na=False)\n",
        "color_questions_df = all_questions_df[color_questions_mask]\n",
        "\n",
        "# Count the occurrences of each specific color\n",
        "color_counts = Counter()\n",
        "for question in color_questions_df['question']:\n",
        "    # Split question into words for more accurate matching\n",
        "    words_in_question = set(question.lower().replace('?', '').split())\n",
        "    for color in color_keywords:\n",
        "        if color in words_in_question:\n",
        "            color_counts[color.capitalize()] += 1\n",
        "\n",
        "most_requested_colors = pd.Series(color_counts).sort_values(ascending=False).head(10)\n",
        "\n",
        "# --- 3. Generate the Focused Report ---\n",
        "print(\"\\n\\n\" + \"=\"*80)\n",
        "print(\" VQA SYSTEM: PRODUCT VARIATION INSIGHTS REPORT\")\n",
        "print(\"=\"*80)\n",
        "print(f\"**Date:** {pd.to_datetime('today').strftime('%B %d, %Y')}\")\n",
        "print(f\"**Focus:** Analysis of specific product variations requested by customers.\")\n",
        "\n",
        "print(\"\\n### Most Requested Product Colors ###\")\n",
        "\n",
        "# Visualize Most Requested Colors\n",
        "plt.figure(figsize=(12, 7))\n",
        "sns.barplot(x=most_requested_colors.index, y=most_requested_colors.values, palette='colorblind')\n",
        "plt.title('Top 10 Most Requested Colors in User Questions', fontsize=16)\n",
        "plt.ylabel('Number of Mentions', fontsize=12)\n",
        "plt.xlabel('Color', fontsize=12)\n",
        "plt.tight_layout()\n",
        "\n",
        "# Save the figure to your Google Drive\n",
        "output_image_path = f'{drive_path}most_requested_colors_report.png'\n",
        "plt.savefig(output_image_path)\n",
        "plt.show()\n",
        "\n",
        "print(f\"\\n*Chart showing the top 10 requested colors saved to your Google Drive at: {output_image_path}*\")"
      ],
      "metadata": {
        "colab": {
          "base_uri": "https://localhost:8080/"
        },
        "id": "s65p0z32IXqR",
        "outputId": "49d0d5fa-7908-4332-b92d-990ffdcc6374"
      },
      "execution_count": null,
      "outputs": [
        {
          "output_type": "stream",
          "name": "stdout",
          "text": [
            "Loading all files from Google Drive...\n",
            " -> Successfully loaded: v2_OpenEnded_mscoco_train2014_questions.json\n",
            " -> Successfully loaded: v2_OpenEnded_mscoco_val2014_questions.json\n",
            " -> Successfully loaded: v2_OpenEnded_mscoco_test2015_questions.json\n",
            " -> Successfully loaded: v2_OpenEnded_mscoco_test-dev2015_questions.json\n",
            "\n",
            "Successfully loaded and combined 1213298 questions.\n",
            "\n",
            "--- Task: Generate Report for Merchandising Team (Focused on Variations) ---\n",
            "\n",
            "\n",
            "================================================================================\n",
            " VQA SYSTEM: PRODUCT VARIATION INSIGHTS REPORT\n",
            "================================================================================\n",
            "**Date:** July 01, 2025\n",
            "**Focus:** Analysis of specific product variations requested by customers.\n",
            "\n",
            "### Most Requested Product Colors ###\n"
          ]
        },
        {
          "output_type": "stream",
          "name": "stderr",
          "text": [
            "/tmp/ipython-input-8-1446326885.py:58: FutureWarning: \n",
            "\n",
            "Passing `palette` without assigning `hue` is deprecated and will be removed in v0.14.0. Assign the `x` variable to `hue` and set `legend=False` for the same effect.\n",
            "\n",
            "  sns.barplot(x=most_requested_colors.index, y=most_requested_colors.values, palette='colorblind')\n"
          ]
        },
        {
          "output_type": "display_data",
          "data": {
            "text/plain": [
              "<Figure size 1200x700 with 1 Axes>"
            ],
            "image/png": "[encoded data removed]"
          },
          "metadata": {}
        },
        {
          "output_type": "stream",
          "name": "stdout",
          "text": [
            "\n",
            "*Chart showing the top 10 requested colors saved to your Google Drive at: /content/drive/My Drive/VQA_Data/most_requested_colors_report.png*\n"
          ]
        }
      ]
    },
    {
      "cell_type": "markdown",
      "source": [
        "**Generate a PDF Report**"
      ],
      "metadata": {
        "id": "PwVec8fiTJus"
      }
    },
    {
      "cell_type": "code",
      "source": [
        "# --- 3. Build the PDF Report ---\n",
        "print(\"Building PDF report...\")\n",
        "pdf_filename = 'VQA_Merchandising_Report.pdf'\n",
        "doc = SimpleDocTemplate(pdf_filename)\n",
        "styles = getSampleStyleSheet()\n",
        "\n",
        "# Add a custom centered title style\n",
        "styles.add(ParagraphStyle(name='CenterTitle', parent=styles['h1'], alignment=TA_CENTER))\n",
        "\n",
        "# Create a list to hold the report elements (\"flowables\")\n",
        "Story = []\n",
        "\n",
        "# Add Title and Subtitle\n",
        "Story.append(Paragraph(\"VQA System: Product Variation Insights Report\", styles['CenterTitle']))\n",
        "Story.append(Spacer(1, 0.2*inch))\n",
        "date_str = f\"<b>Date:</b> {pd.to_datetime('today').strftime('%B %d, %Y')}\"\n",
        "Story.append(Paragraph(date_str, styles['Normal']))\n",
        "Story.append(Paragraph(\"<b>Focus:</b> Analysis of specific product variations requested by customers.\", styles['Normal']))\n",
        "Story.append(Spacer(1, 0.4*inch))\n",
        "\n",
        "# Add the \"Deep Dive\" section\n",
        "Story.append(Paragraph(\"Deep Dive: Most Requested Product Colors\", styles['h2']))\n",
        "Story.append(Paragraph(\"To identify immediate opportunities, we analyzed which specific colors customers mention most frequently.\", styles['Normal']))\n",
        "Story.append(Spacer(1, 0.2*inch))\n",
        "\n",
        "# Add the chart image to the PDF\n",
        "# Use the full path to the image saved in Google Drive\n",
        "img = Image(output_image_path, width=6*inch, height=3.75*inch) # Control image size\n",
        "Story.append(img)\n",
        "Story.append(Spacer(1, 0.4*inch))\n",
        "\n",
        "# Add the \"Actionable Recommendations\" section\n",
        "Story.append(Paragraph(\"Actionable Recommendations for Merchandising\", styles['h2']))\n",
        "Story.append(Spacer(1, 0.2*inch))\n",
        "\n",
        "# Use bullet points for recommendations\n",
        "top_colors = f\"{most_requested_colors.index[0]}, {most_requested_colors.index[1]}, and {most_requested_colors.index[2]}\"\n",
        "Story.append(Paragraph(\"<b>Insight: Customer demand is clearest for specific colors.</b>\", styles['h3']))\n",
        "Story.append(Paragraph(f\"The top requested colors are <b>{top_colors}</b>.\", styles['Normal']))\n",
        "Story.append(Paragraph(\"<b>ACTION:</b>\", styles['h4']))\n",
        "Story.append(Paragraph(\"• <b>Inventory & Stocking:</b> Prioritize stocking a variety of products in these high-demand colors.\", styles['Bullet']))\n",
        "Story.append(Paragraph(\"• <b>Marketing & Campaigns:</b> Feature products in these popular colors in upcoming email campaigns, ads, and homepage banners.\", styles['Bullet']))\n",
        "Story.append(Paragraph(\"• <b>Product Development:</b> Use this data to inform color choices for new product lines.\", styles['Bullet']))\n",
        "Story.append(Spacer(1, 0.2*inch))\n",
        "\n",
        "Story.append(Paragraph(\"<b>Insight: Improve Discoverability.</b>\", styles['h3']))\n",
        "Story.append(Paragraph(\"Customers are using basic color terms to search and ask questions.\", styles['Normal']))\n",
        "Story.append(Paragraph(\"<b>ACTION:</b>\", styles['h4']))\n",
        "Story.append(Paragraph(\"• <b>Product Naming:</b> Ensure product titles contain these exact color keywords (e.g., 'Classic Red T-Shirt').\", styles['Bullet']))\n",
        "Story.append(Paragraph(\"• <b>Improved Search:</b> Enhance website search filters to include these top 10 colors.\", styles['Bullet']))\n",
        "\n",
        "# Build the PDF\n",
        "doc.build(Story)\n",
        "print(f\"\\nSuccessfully generated report: '{pdf_filename}'\")"
      ],
      "metadata": {
        "colab": {
          "base_uri": "https://localhost:8080/"
        },
        "id": "OBByTGhWTJS9",
        "outputId": "7198ccb7-0a2a-4eed-ad50-26d6a8273c18"
      },
      "execution_count": null,
      "outputs": [
        {
          "output_type": "stream",
          "name": "stdout",
          "text": [
            "Building PDF report...\n",
            "\n",
            "Successfully generated report: 'VQA_Merchandising_Report.pdf'\n"
          ]
        }
      ]
    },
    {
      "cell_type": "code",
      "source": [],
      "metadata": {
        "id": "2XR8uKceu96N"
      },
      "execution_count": null,
      "outputs": []
    }
  ]
}